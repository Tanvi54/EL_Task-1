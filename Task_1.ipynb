{
  "nbformat": 4,
  "nbformat_minor": 0,
  "metadata": {
    "colab": {
      "provenance": []
    },
    "kernelspec": {
      "name": "python3",
      "display_name": "Python 3"
    },
    "language_info": {
      "name": "python"
    }
  },
  "cells": [
    {
      "cell_type": "code",
      "execution_count": 44,
      "metadata": {
        "id": "cJT8xHP983L9"
      },
      "outputs": [],
      "source": [
        "import pandas as pd\n",
        "import numpy as np\n",
        "\n",
        "# Load raw data\n",
        "df = pd.read_csv('netflix_titles.csv')\n"
      ]
    },
    {
      "cell_type": "code",
      "source": [
        "print(\"Initial shape:\", df.shape)\n",
        "print(df.info())"
      ],
      "metadata": {
        "colab": {
          "base_uri": "https://localhost:8080/"
        },
        "id": "rht7-HpigULW",
        "outputId": "b1b3b54e-1539-47bc-8f6d-5ba1ff0c2649"
      },
      "execution_count": 45,
      "outputs": [
        {
          "output_type": "stream",
          "name": "stdout",
          "text": [
            "Initial shape: (8807, 12)\n",
            "<class 'pandas.core.frame.DataFrame'>\n",
            "RangeIndex: 8807 entries, 0 to 8806\n",
            "Data columns (total 12 columns):\n",
            " #   Column        Non-Null Count  Dtype \n",
            "---  ------        --------------  ----- \n",
            " 0   show_id       8807 non-null   object\n",
            " 1   type          8807 non-null   object\n",
            " 2   title         8807 non-null   object\n",
            " 3   director      6173 non-null   object\n",
            " 4   cast          7982 non-null   object\n",
            " 5   country       7976 non-null   object\n",
            " 6   date_added    8797 non-null   object\n",
            " 7   release_year  8807 non-null   int64 \n",
            " 8   rating        8803 non-null   object\n",
            " 9   duration      8804 non-null   object\n",
            " 10  listed_in     8807 non-null   object\n",
            " 11  description   8807 non-null   object\n",
            "dtypes: int64(1), object(11)\n",
            "memory usage: 825.8+ KB\n",
            "None\n"
          ]
        }
      ]
    },
    {
      "cell_type": "markdown",
      "source": [
        "**The dataset has 8,807 Netflix titles with 12 columns.**\n",
        "\n",
        "This helps us to know which are the columns present along with there datatypes also."
      ],
      "metadata": {
        "id": "4sckSoIdmDE0"
      }
    },
    {
      "cell_type": "markdown",
      "source": [
        "**Handle missing values**"
      ],
      "metadata": {
        "id": "xVDN2Akem3NR"
      }
    },
    {
      "cell_type": "code",
      "source": [
        "# 1. Handle missing values\n",
        "print(\"Missing values by column:\\n\", df.isnull().sum())\n"
      ],
      "metadata": {
        "colab": {
          "base_uri": "https://localhost:8080/"
        },
        "id": "wtGUHlg_gYse",
        "outputId": "02dcef1a-b5fc-4fb0-c060-9f476792f561"
      },
      "execution_count": 46,
      "outputs": [
        {
          "output_type": "stream",
          "name": "stdout",
          "text": [
            "Missing values by column:\n",
            " show_id            0\n",
            "type               0\n",
            "title              0\n",
            "director        2634\n",
            "cast             825\n",
            "country          831\n",
            "date_added        10\n",
            "release_year       0\n",
            "rating             4\n",
            "duration           3\n",
            "listed_in          0\n",
            "description        0\n",
            "dtype: int64\n"
          ]
        }
      ]
    },
    {
      "cell_type": "markdown",
      "source": [
        "**The dataset has major missing values in director (2,634), and moderate gaps in cast (825) and country (831). Minor missing values exist in date_added (10), rating (4), and duration (3). All other columns are complete**"
      ],
      "metadata": {
        "id": "E62q6Nyzmwek"
      }
    },
    {
      "cell_type": "code",
      "source": [
        "# fill missing with meaningful placeholders\n",
        "df['director'] = df['director'].fillna('Unknown Director')\n",
        "df['cast'] = df['cast'].fillna('Unknown Cast')\n",
        "df['country'] = df['country'].fillna('Not Specified')\n",
        "df['rating'] = df['rating'].fillna('Not Rated')\n",
        "df['duration'] = df['duration'].fillna('Unknown Duration')\n",
        "df['date_added'] = df['date_added'].fillna('Unknown Date')\n",
        "\n",
        "\n",
        "print(\"Missing values by column:\\n\", df.isnull().sum())\n",
        "\n"
      ],
      "metadata": {
        "colab": {
          "base_uri": "https://localhost:8080/"
        },
        "id": "ZZvhBdaVgmjP",
        "outputId": "e445b1a5-e861-4a90-e80a-bb3e34909180"
      },
      "execution_count": 47,
      "outputs": [
        {
          "output_type": "stream",
          "name": "stdout",
          "text": [
            "Missing values by column:\n",
            " show_id         0\n",
            "type            0\n",
            "title           0\n",
            "director        0\n",
            "cast            0\n",
            "country         0\n",
            "date_added      0\n",
            "release_year    0\n",
            "rating          0\n",
            "duration        0\n",
            "listed_in       0\n",
            "description     0\n",
            "dtype: int64\n"
          ]
        }
      ]
    },
    {
      "cell_type": "markdown",
      "source": [
        "**All missing values were replaced with meaningful placeholders (Unknown Director, Unknown Cast, Not Specified, Not Rated, Unknown Duration, Unknown Date).**\n",
        "\n",
        "The reason i used Unknown as a placeholder is because they still contain valuable information: title, type, release year, country, genre, etc. Dropping them shrinks your dataset unnecessarily — will lose 2,634 rows for directors and 825 rows for cast (that’s ~30% of your data!)."
      ],
      "metadata": {
        "id": "giBCshOPnMcg"
      }
    },
    {
      "cell_type": "code",
      "source": [
        "# 2. Remove duplicate rows\n",
        "df.drop_duplicates(inplace=True)\n",
        "print(\"After dropping duplicates:\", df.shape)"
      ],
      "metadata": {
        "colab": {
          "base_uri": "https://localhost:8080/"
        },
        "id": "76AqhfavhdvE",
        "outputId": "33b41a4d-6393-4e29-e88c-2b35aacab033"
      },
      "execution_count": 48,
      "outputs": [
        {
          "output_type": "stream",
          "name": "stdout",
          "text": [
            "After dropping duplicates: (8807, 12)\n"
          ]
        }
      ]
    },
    {
      "cell_type": "markdown",
      "source": [
        "**There were no duplicates found as the shape of the dataset is remains same**"
      ],
      "metadata": {
        "id": "XZffp3Tpnxcy"
      }
    },
    {
      "cell_type": "code",
      "source": [
        "# 3. Standardize text values (e.g. type, rating)\n",
        "df['type'] = df['type'].str.title()            # \"movie\" -> \"Movie\"\n",
        "df['rating'] = df['rating'].str.upper().str.strip()\n",
        "df['country'] = df['country'].str.title()"
      ],
      "metadata": {
        "id": "LUe8Ih-ziR_R"
      },
      "execution_count": 49,
      "outputs": []
    },
    {
      "cell_type": "markdown",
      "source": [
        "**Standardized text columns:**\n",
        "\n",
        "type → Title case (e.g., \"movie\" → \"Movie\")\n",
        "\n",
        "rating → Uppercase, removed dashes & extra spaces\n",
        "\n",
        "country → Title case\n",
        "\n",
        "To ensure consistent formatting across categorical fields, making grouping, filtering, and analysis easier."
      ],
      "metadata": {
        "id": "wS_l0UajoLIM"
      }
    },
    {
      "cell_type": "code",
      "source": [
        "# 4. Fix date column: convert date_added to datetime with uniform format # then format as dd‑mm‑yyyy\n",
        "df['date_added'] = pd.to_datetime(df['date_added'], errors='coerce')\n",
        "df['date_added'] = df['date_added'].dt.strftime('%d-%m-%Y')"
      ],
      "metadata": {
        "id": "-OZ-Qa2UiVlD"
      },
      "execution_count": 50,
      "outputs": []
    },
    {
      "cell_type": "markdown",
      "source": [
        "**Converted date_added to datetime and reformatted it to dd‑mm‑yyyy.**\n",
        "\n",
        "To ensure uniform date formatting for easier sorting, filtering, and time-based analysis."
      ],
      "metadata": {
        "id": "YP7nYGr3ofSw"
      }
    },
    {
      "cell_type": "code",
      "source": [
        "# 5. Clean duration: split numeric value & type\n",
        "df[['duration_value', 'duration_unit']] = df['duration'].str.extract(r'(\\d+)\\s*(\\w+)')\n",
        "df['duration_value'] = pd.to_numeric(df['duration_value'], errors='coerce')\n",
        "df['duration_unit'] = df['duration_unit'].str.lower().replace({\n",
        "    'seasons': 'season',\n",
        "    'season': 'season',\n",
        "    'min': 'minutes'\n",
        "}).fillna('unknown')"
      ],
      "metadata": {
        "id": "PTUOvdVokZqp"
      },
      "execution_count": 51,
      "outputs": []
    },
    {
      "cell_type": "markdown",
      "source": [
        "**Split duration into numeric value (duration_value) and unit (duration_unit), converting the value to numeric and filling missing units with \"Unknown\".**\n",
        "\n",
        "To make data structured and analyzable, enabling numeric comparisons and filtering by unit (minutes vs seasons)."
      ],
      "metadata": {
        "id": "coxPm5f7o3WA"
      }
    },
    {
      "cell_type": "code",
      "source": [
        "# 6. Rename columns: clean headers\n",
        "df.columns = (df.columns.str.strip()\n",
        "                           .str.lower()\n",
        "                           .str.replace(' ', '_')\n",
        "                           .str.replace('-', '_'))"
      ],
      "metadata": {
        "id": "YrYiSh0Kic7W"
      },
      "execution_count": 52,
      "outputs": []
    },
    {
      "cell_type": "markdown",
      "source": [
        "**Renamed all column headers to lowercase with underscores (e.g., Date Added → date_added).**\n",
        "\n",
        "Though in the dataset all the columns were in lowercase and proper format but still performed for better results"
      ],
      "metadata": {
        "id": "RfbVMplVpO6c"
      }
    },
    {
      "cell_type": "code",
      "source": [
        "# 7. Strip whitespace in text columns\n",
        "for col in ['title', 'director', 'cast', 'listed_in', 'description']:\n",
        "    df[col] = df[col].astype(str).str.strip()"
      ],
      "metadata": {
        "id": "N5d_8wNjjFdn"
      },
      "execution_count": 53,
      "outputs": []
    },
    {
      "cell_type": "markdown",
      "source": [
        "**Removed leading and trailing spaces from text columns (title, director, cast, listed_in, description).**\n",
        "\n"
      ],
      "metadata": {
        "id": "W721-UsIpmze"
      }
    },
    {
      "cell_type": "code",
      "source": [
        "# Save the final cleaned dataset\n",
        "df.to_csv(\"netflix_titles_final_cleaned.csv\", index=False)\n",
        "\n",
        "print(\"Data cleaning complete! Final shape:\", df.shape)\n",
        "print(df.head())"
      ],
      "metadata": {
        "colab": {
          "base_uri": "https://localhost:8080/"
        },
        "id": "JuLiZYPnknVg",
        "outputId": "7ddf2d56-365e-4c15-c333-ba77c2b78bdc"
      },
      "execution_count": 54,
      "outputs": [
        {
          "output_type": "stream",
          "name": "stdout",
          "text": [
            "Data cleaning complete! Final shape: (8807, 14)\n",
            "  show_id     type                  title          director  \\\n",
            "0      s1    Movie   Dick Johnson Is Dead   Kirsten Johnson   \n",
            "1      s2  Tv Show          Blood & Water  Unknown Director   \n",
            "2      s3  Tv Show              Ganglands   Julien Leclercq   \n",
            "3      s4  Tv Show  Jailbirds New Orleans  Unknown Director   \n",
            "4      s5  Tv Show           Kota Factory  Unknown Director   \n",
            "\n",
            "                                                cast        country  \\\n",
            "0                                       Unknown Cast  United States   \n",
            "1  Ama Qamata, Khosi Ngema, Gail Mabalane, Thaban...   South Africa   \n",
            "2  Sami Bouajila, Tracy Gotoas, Samuel Jouy, Nabi...  Not Specified   \n",
            "3                                       Unknown Cast  Not Specified   \n",
            "4  Mayur More, Jitendra Kumar, Ranjan Raj, Alam K...          India   \n",
            "\n",
            "   date_added  release_year rating   duration  \\\n",
            "0  25-09-2021          2020  PG-13     90 min   \n",
            "1  24-09-2021          2021  TV-MA  2 Seasons   \n",
            "2  24-09-2021          2021  TV-MA   1 Season   \n",
            "3  24-09-2021          2021  TV-MA   1 Season   \n",
            "4  24-09-2021          2021  TV-MA  2 Seasons   \n",
            "\n",
            "                                           listed_in  \\\n",
            "0                                      Documentaries   \n",
            "1    International TV Shows, TV Dramas, TV Mysteries   \n",
            "2  Crime TV Shows, International TV Shows, TV Act...   \n",
            "3                             Docuseries, Reality TV   \n",
            "4  International TV Shows, Romantic TV Shows, TV ...   \n",
            "\n",
            "                                         description  duration_value  \\\n",
            "0  As her father nears the end of his life, filmm...            90.0   \n",
            "1  After crossing paths at a party, a Cape Town t...             2.0   \n",
            "2  To protect his family from a powerful drug lor...             1.0   \n",
            "3  Feuds, flirtations and toilet talk go down amo...             1.0   \n",
            "4  In a city of coaching centers known to train I...             2.0   \n",
            "\n",
            "  duration_unit  \n",
            "0       minutes  \n",
            "1        season  \n",
            "2        season  \n",
            "3        season  \n",
            "4        season  \n"
          ]
        }
      ]
    },
    {
      "cell_type": "markdown",
      "source": [
        "**Saved the fully cleaned dataset as netflix_titles_final_cleaned.csv and displayed its final shape and sample rows.**\n",
        "\n"
      ],
      "metadata": {
        "id": "uGnZy-r8pwx4"
      }
    }
  ]
}